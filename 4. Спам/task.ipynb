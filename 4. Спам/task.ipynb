{
 "cells": [
  {
   "cell_type": "code",
   "execution_count": 65,
   "metadata": {
    "collapsed": true
   },
   "outputs": [],
   "source": [
    "import numpy as np\n",
    "import pandas as pd\n",
    "from sklearn.model_selection import train_test_split\n",
    "from sklearn.ensemble import RandomForestClassifier\n",
    "from sklearn.feature_extraction.text import TfidfVectorizer\n",
    "from sklearn.metrics import classification_report\n",
    "import scipy"
   ]
  },
  {
   "cell_type": "code",
   "execution_count": 66,
   "outputs": [],
   "source": [
    "df = pd.read_csv('Task_1_prepprocessed.csv')"
   ],
   "metadata": {
    "collapsed": false,
    "pycharm": {
     "name": "#%%\n"
    }
   }
  },
  {
   "cell_type": "code",
   "execution_count": 67,
   "outputs": [],
   "source": [
    "df.dropna(inplace=True)"
   ],
   "metadata": {
    "collapsed": false,
    "pycharm": {
     "name": "#%%\n"
    }
   }
  },
  {
   "cell_type": "code",
   "execution_count": 68,
   "outputs": [],
   "source": [
    "X = df.iloc[:, 1:]\n",
    "y = df.iloc[:, 0]"
   ],
   "metadata": {
    "collapsed": false,
    "pycharm": {
     "name": "#%%\n"
    }
   }
  },
  {
   "cell_type": "code",
   "execution_count": 69,
   "outputs": [
    {
     "data": {
      "text/plain": "   date                          from                            to  \\\n0     4        info@global-change.com      michelle.lokay@enron.com   \n1     1        info@pmaconference.com      michelle.lokay@enron.com   \n2     6        info@pmaconference.com      michelle.lokay@enron.com   \n3     3           bruno@firstconf.com  energynews@fc.ease.lsoft.com   \n4     1  deanrogers@energyclasses.com      michelle.lokay@enron.com   \n5     0     10182829@mbox.surecom.com      michelle.lokay@enron.com   \n6     3        info@pmaconference.com      michelle.lokay@enron.com   \n7     1         allison@firstconf.com      michelle.lokay@enron.com   \n8     3        info@energyclasses.com      michelle.lokay@enron.com   \n9     0        info@pmaconference.com      michelle.lokay@enron.com   \n\n                                   subject  \\\n0                   next wave energi trade   \n1            regist next txu capac auction   \n2        merchant power monthli free sampl   \n3                       eyeforenergi updat   \n4       deriv earli bird til march houston   \n5            power outag outag free inform   \n6         market price volatil may houston   \n7  weather trade risk manag latest develop   \n8                    transmiss studi avail   \n9         new power execut free sampl issu   \n\n                                                body  \n0  energi industri profession global chang associ...  \n1  regist next txu energi capac auction new regis...  \n2  merchant power monthli month s issu almost mw ...  \n3  welcom week s eyeforenergi updat refresh memor...  \n4  deriv energi profession two full day april ear...  \n5  energi argu power plant outag servic come comp...  \n6  market price volatil may houston tx click down...  \n7  dear michel weather trade market open busi eur...  \n8  u s transmiss industri report energi info sour...  \n9  welcom download free trial issu new power exec...  ",
      "text/html": "<div>\n<style scoped>\n    .dataframe tbody tr th:only-of-type {\n        vertical-align: middle;\n    }\n\n    .dataframe tbody tr th {\n        vertical-align: top;\n    }\n\n    .dataframe thead th {\n        text-align: right;\n    }\n</style>\n<table border=\"1\" class=\"dataframe\">\n  <thead>\n    <tr style=\"text-align: right;\">\n      <th></th>\n      <th>date</th>\n      <th>from</th>\n      <th>to</th>\n      <th>subject</th>\n      <th>body</th>\n    </tr>\n  </thead>\n  <tbody>\n    <tr>\n      <th>0</th>\n      <td>4</td>\n      <td>info@global-change.com</td>\n      <td>michelle.lokay@enron.com</td>\n      <td>next wave energi trade</td>\n      <td>energi industri profession global chang associ...</td>\n    </tr>\n    <tr>\n      <th>1</th>\n      <td>1</td>\n      <td>info@pmaconference.com</td>\n      <td>michelle.lokay@enron.com</td>\n      <td>regist next txu capac auction</td>\n      <td>regist next txu energi capac auction new regis...</td>\n    </tr>\n    <tr>\n      <th>2</th>\n      <td>6</td>\n      <td>info@pmaconference.com</td>\n      <td>michelle.lokay@enron.com</td>\n      <td>merchant power monthli free sampl</td>\n      <td>merchant power monthli month s issu almost mw ...</td>\n    </tr>\n    <tr>\n      <th>3</th>\n      <td>3</td>\n      <td>bruno@firstconf.com</td>\n      <td>energynews@fc.ease.lsoft.com</td>\n      <td>eyeforenergi updat</td>\n      <td>welcom week s eyeforenergi updat refresh memor...</td>\n    </tr>\n    <tr>\n      <th>4</th>\n      <td>1</td>\n      <td>deanrogers@energyclasses.com</td>\n      <td>michelle.lokay@enron.com</td>\n      <td>deriv earli bird til march houston</td>\n      <td>deriv energi profession two full day april ear...</td>\n    </tr>\n    <tr>\n      <th>5</th>\n      <td>0</td>\n      <td>10182829@mbox.surecom.com</td>\n      <td>michelle.lokay@enron.com</td>\n      <td>power outag outag free inform</td>\n      <td>energi argu power plant outag servic come comp...</td>\n    </tr>\n    <tr>\n      <th>6</th>\n      <td>3</td>\n      <td>info@pmaconference.com</td>\n      <td>michelle.lokay@enron.com</td>\n      <td>market price volatil may houston</td>\n      <td>market price volatil may houston tx click down...</td>\n    </tr>\n    <tr>\n      <th>7</th>\n      <td>1</td>\n      <td>allison@firstconf.com</td>\n      <td>michelle.lokay@enron.com</td>\n      <td>weather trade risk manag latest develop</td>\n      <td>dear michel weather trade market open busi eur...</td>\n    </tr>\n    <tr>\n      <th>8</th>\n      <td>3</td>\n      <td>info@energyclasses.com</td>\n      <td>michelle.lokay@enron.com</td>\n      <td>transmiss studi avail</td>\n      <td>u s transmiss industri report energi info sour...</td>\n    </tr>\n    <tr>\n      <th>9</th>\n      <td>0</td>\n      <td>info@pmaconference.com</td>\n      <td>michelle.lokay@enron.com</td>\n      <td>new power execut free sampl issu</td>\n      <td>welcom download free trial issu new power exec...</td>\n    </tr>\n  </tbody>\n</table>\n</div>"
     },
     "execution_count": 69,
     "metadata": {},
     "output_type": "execute_result"
    }
   ],
   "source": [
    "X.head(10)"
   ],
   "metadata": {
    "collapsed": false,
    "pycharm": {
     "name": "#%%\n"
    }
   }
  },
  {
   "cell_type": "code",
   "execution_count": 70,
   "outputs": [
    {
     "data": {
      "text/plain": "0    0\n1    0\n2    0\n3    0\n4    0\n5    0\n6    0\n7    0\n8    0\n9    0\nName: class, dtype: int64"
     },
     "execution_count": 70,
     "metadata": {},
     "output_type": "execute_result"
    }
   ],
   "source": [
    "y.head(10)"
   ],
   "metadata": {
    "collapsed": false,
    "pycharm": {
     "name": "#%%\n"
    }
   }
  },
  {
   "cell_type": "code",
   "execution_count": 71,
   "outputs": [],
   "source": [
    "X_train, X_test, y_train, y_test = train_test_split(X, y, test_size=.3, random_state=65)"
   ],
   "metadata": {
    "collapsed": false,
    "pycharm": {
     "name": "#%%\n"
    }
   }
  },
  {
   "cell_type": "markdown",
   "source": [
    "# 1"
   ],
   "metadata": {
    "collapsed": false,
    "pycharm": {
     "name": "#%% md\n"
    }
   }
  },
  {
   "cell_type": "code",
   "execution_count": 72,
   "outputs": [],
   "source": [
    "vectorizer = TfidfVectorizer()\n",
    "X_train_1 = vectorizer.fit_transform(X_train.body)\n",
    "X_test_1 = vectorizer.transform(X_test.body)"
   ],
   "metadata": {
    "collapsed": false,
    "pycharm": {
     "name": "#%%\n"
    }
   }
  },
  {
   "cell_type": "code",
   "execution_count": 73,
   "outputs": [],
   "source": [
    "model = RandomForestClassifier(n_estimators=10, n_jobs=10, random_state=65)"
   ],
   "metadata": {
    "collapsed": false,
    "pycharm": {
     "name": "#%%\n"
    }
   }
  },
  {
   "cell_type": "code",
   "execution_count": 74,
   "outputs": [
    {
     "data": {
      "text/plain": "RandomForestClassifier(n_estimators=10, n_jobs=10, random_state=65)"
     },
     "execution_count": 74,
     "metadata": {},
     "output_type": "execute_result"
    }
   ],
   "source": [
    "model.fit(X_train_1, y_train)"
   ],
   "metadata": {
    "collapsed": false,
    "pycharm": {
     "name": "#%%\n"
    }
   }
  },
  {
   "cell_type": "code",
   "execution_count": 75,
   "outputs": [],
   "source": [
    "y_pred = model.predict(X_test_1)"
   ],
   "metadata": {
    "collapsed": false,
    "pycharm": {
     "name": "#%%\n"
    }
   }
  },
  {
   "cell_type": "code",
   "execution_count": 76,
   "outputs": [],
   "source": [
    "metrics = classification_report(y_test, y_pred, digits=3, output_dict=True)"
   ],
   "metadata": {
    "collapsed": false,
    "pycharm": {
     "name": "#%%\n"
    }
   }
  },
  {
   "cell_type": "code",
   "execution_count": 77,
   "outputs": [
    {
     "name": "stdout",
     "output_type": "stream",
     "text": [
      "Precision:  0.967\n",
      "Recall:  0.963\n",
      "F1:  0.965\n"
     ]
    }
   ],
   "source": [
    "print('Precision: ', round(metrics['macro avg']['precision'],3))\n",
    "print('Recall: ', round(metrics['macro avg']['recall'],3))\n",
    "print('F1: ', round(metrics['macro avg']['f1-score'],3))"
   ],
   "metadata": {
    "collapsed": false,
    "pycharm": {
     "name": "#%%\n"
    }
   }
  },
  {
   "cell_type": "markdown",
   "source": [
    "# 2"
   ],
   "metadata": {
    "collapsed": false,
    "pycharm": {
     "name": "#%% md\n"
    }
   }
  },
  {
   "cell_type": "code",
   "execution_count": 78,
   "outputs": [],
   "source": [
    "vectorizer = TfidfVectorizer()"
   ],
   "metadata": {
    "collapsed": false,
    "pycharm": {
     "name": "#%%\n"
    }
   }
  },
  {
   "cell_type": "code",
   "execution_count": 79,
   "outputs": [],
   "source": [
    "X_train_2 = scipy.sparse.hstack((vectorizer.fit_transform(X_train.body + X_train.subject), X_train.date.to_numpy().reshape((-1, 1))))\n",
    "X_test_2 = scipy.sparse.hstack((vectorizer.transform(X_test.body + X_test.subject), X_test.date.to_numpy().reshape((-1, 1))))"
   ],
   "metadata": {
    "collapsed": false,
    "pycharm": {
     "name": "#%%\n"
    }
   }
  },
  {
   "cell_type": "code",
   "execution_count": 80,
   "outputs": [
    {
     "data": {
      "text/plain": "RandomForestClassifier(n_estimators=10, random_state=65)"
     },
     "execution_count": 80,
     "metadata": {},
     "output_type": "execute_result"
    }
   ],
   "source": [
    "model = RandomForestClassifier(n_estimators=10, random_state=65)\n",
    "model.fit(X_train_2, y_train)"
   ],
   "metadata": {
    "collapsed": false,
    "pycharm": {
     "name": "#%%\n"
    }
   }
  },
  {
   "cell_type": "code",
   "execution_count": 81,
   "outputs": [],
   "source": [
    "y_pred = model.predict(X_test_2)\n",
    "metrics = classification_report(y_test, y_pred, digits=3, output_dict=True)"
   ],
   "metadata": {
    "collapsed": false,
    "pycharm": {
     "name": "#%%\n"
    }
   }
  },
  {
   "cell_type": "code",
   "execution_count": 82,
   "outputs": [
    {
     "name": "stdout",
     "output_type": "stream",
     "text": [
      "Precision:  0.968\n",
      "Recall:  0.965\n",
      "F1:  0.966\n"
     ]
    }
   ],
   "source": [
    "print('Precision: ', round(metrics['macro avg']['precision'], 3))\n",
    "print('Recall: ', round(metrics['macro avg']['recall'], 3))\n",
    "print('F1: ', round(metrics['macro avg']['f1-score'], 3))"
   ],
   "metadata": {
    "collapsed": false,
    "pycharm": {
     "name": "#%%\n"
    }
   }
  },
  {
   "cell_type": "markdown",
   "source": [
    "# 3"
   ],
   "metadata": {
    "collapsed": false,
    "pycharm": {
     "name": "#%% md\n"
    }
   }
  },
  {
   "cell_type": "code",
   "execution_count": 83,
   "outputs": [],
   "source": [
    "vectorizer = TfidfVectorizer(ngram_range=(2, 2))"
   ],
   "metadata": {
    "collapsed": false,
    "pycharm": {
     "name": "#%%\n"
    }
   }
  },
  {
   "cell_type": "code",
   "execution_count": 84,
   "outputs": [],
   "source": [
    "X_train_3 = vectorizer.fit_transform(X_train.body)\n",
    "X_test_3 = vectorizer.transform(X_test.body)"
   ],
   "metadata": {
    "collapsed": false,
    "pycharm": {
     "name": "#%%\n"
    }
   }
  },
  {
   "cell_type": "code",
   "execution_count": 85,
   "outputs": [],
   "source": [
    "model = RandomForestClassifier(n_estimators=10, n_jobs=10, random_state=65)"
   ],
   "metadata": {
    "collapsed": false,
    "pycharm": {
     "name": "#%%\n"
    }
   }
  },
  {
   "cell_type": "code",
   "execution_count": 86,
   "outputs": [
    {
     "data": {
      "text/plain": "RandomForestClassifier(n_estimators=10, n_jobs=10, random_state=65)"
     },
     "execution_count": 86,
     "metadata": {},
     "output_type": "execute_result"
    }
   ],
   "source": [
    "model.fit(X_train_3, y_train)"
   ],
   "metadata": {
    "collapsed": false,
    "pycharm": {
     "name": "#%%\n"
    }
   }
  },
  {
   "cell_type": "code",
   "execution_count": 87,
   "outputs": [],
   "source": [
    "y_pred = model.predict(X_test_3)\n",
    "metrics = classification_report(y_test, y_pred, digits=3, output_dict=True)"
   ],
   "metadata": {
    "collapsed": false,
    "pycharm": {
     "name": "#%%\n"
    }
   }
  },
  {
   "cell_type": "code",
   "execution_count": 88,
   "outputs": [
    {
     "name": "stdout",
     "output_type": "stream",
     "text": [
      "Precision:  0.953\n",
      "Recall:  0.947\n",
      "F1:  0.949\n"
     ]
    }
   ],
   "source": [
    "print('Precision: ', round(metrics['macro avg']['precision'], 3))\n",
    "print('Recall: ', round(metrics['macro avg']['recall'], 3))\n",
    "print('F1: ', round(metrics['macro avg']['f1-score'], 3))"
   ],
   "metadata": {
    "collapsed": false,
    "pycharm": {
     "name": "#%%\n"
    }
   }
  },
  {
   "cell_type": "code",
   "execution_count": 89,
   "outputs": [],
   "source": [
    "with open('task_1_P_test_2.csv', 'r') as f:\n",
    "    text = f.read()"
   ],
   "metadata": {
    "collapsed": false,
    "pycharm": {
     "name": "#%%\n"
    }
   }
  },
  {
   "cell_type": "code",
   "execution_count": 90,
   "outputs": [
    {
     "data": {
      "text/plain": "array([0], dtype=int64)"
     },
     "execution_count": 90,
     "metadata": {},
     "output_type": "execute_result"
    }
   ],
   "source": [
    "model.predict(vectorizer.transform([text]))"
   ],
   "metadata": {
    "collapsed": false,
    "pycharm": {
     "name": "#%%\n"
    }
   }
  },
  {
   "cell_type": "code",
   "execution_count": 91,
   "outputs": [
    {
     "data": {
      "text/plain": "array([[0.7, 0.3]])"
     },
     "execution_count": 91,
     "metadata": {},
     "output_type": "execute_result"
    }
   ],
   "source": [
    "model.predict_proba(vectorizer.transform([text]))"
   ],
   "metadata": {
    "collapsed": false,
    "pycharm": {
     "name": "#%%\n"
    }
   }
  },
  {
   "cell_type": "code",
   "execution_count": 92,
   "outputs": [
    {
     "data": {
      "text/plain": "0.7"
     },
     "execution_count": 92,
     "metadata": {},
     "output_type": "execute_result"
    }
   ],
   "source": [
    "round(_[0][0], 3)"
   ],
   "metadata": {
    "collapsed": false,
    "pycharm": {
     "name": "#%%\n"
    }
   }
  },
  {
   "cell_type": "code",
   "execution_count": 92,
   "outputs": [],
   "source": [],
   "metadata": {
    "collapsed": false,
    "pycharm": {
     "name": "#%%\n"
    }
   }
  }
 ],
 "metadata": {
  "kernelspec": {
   "display_name": "Python 3",
   "language": "python",
   "name": "python3"
  },
  "language_info": {
   "codemirror_mode": {
    "name": "ipython",
    "version": 2
   },
   "file_extension": ".py",
   "mimetype": "text/x-python",
   "name": "python",
   "nbconvert_exporter": "python",
   "pygments_lexer": "ipython2",
   "version": "2.7.6"
  }
 },
 "nbformat": 4,
 "nbformat_minor": 0
}