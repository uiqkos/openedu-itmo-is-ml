{
 "cells": [
  {
   "cell_type": "code",
   "execution_count": 20,
   "metadata": {
    "collapsed": true
   },
   "outputs": [],
   "source": [
    "import pandas as pd\n",
    "from sklearn.model_selection import train_test_split\n",
    "from sklearn.ensemble import RandomForestClassifier\n",
    "from sklearn.metrics import classification_report"
   ]
  },
  {
   "cell_type": "code",
   "execution_count": 21,
   "outputs": [],
   "source": [
    "df = pd.read_csv('Task_3_data_preprocessed.csv')"
   ],
   "metadata": {
    "collapsed": false,
    "pycharm": {
     "name": "#%%\n"
    }
   }
  },
  {
   "cell_type": "code",
   "execution_count": 22,
   "outputs": [],
   "source": [
    "X = df.iloc[:, :-1]"
   ],
   "metadata": {
    "collapsed": false,
    "pycharm": {
     "name": "#%%\n"
    }
   }
  },
  {
   "cell_type": "code",
   "execution_count": 23,
   "outputs": [],
   "source": [
    "y = df.iloc[:, -1]"
   ],
   "metadata": {
    "collapsed": false,
    "pycharm": {
     "name": "#%%\n"
    }
   }
  },
  {
   "cell_type": "code",
   "execution_count": 24,
   "outputs": [
    {
     "data": {
      "text/plain": "0    GrahamEarnshaw\n1    GrahamEarnshaw\n2    GrahamEarnshaw\n3    GrahamEarnshaw\n4    GrahamEarnshaw\n5    GrahamEarnshaw\n6    GrahamEarnshaw\n7    GrahamEarnshaw\n8    GrahamEarnshaw\n9    GrahamEarnshaw\nName: author, dtype: object"
     },
     "execution_count": 24,
     "metadata": {},
     "output_type": "execute_result"
    }
   ],
   "source": [
    "y.head(10)"
   ],
   "metadata": {
    "collapsed": false,
    "pycharm": {
     "name": "#%%\n"
    }
   }
  },
  {
   "cell_type": "code",
   "execution_count": 25,
   "outputs": [
    {
     "data": {
      "text/plain": "GrahamEarnshaw       100\nMatthewBunce         100\nRogerFillion         100\nToddNissen           100\nAlanCrosby           100\nJoWinterbottom       100\nHeatherScoffield     100\nRobinSidel           100\nKouroshKarimkhany    100\nPatriciaCommins      100\nMarcelMichelson      100\nFumikoFujisaki       100\nWilliamKazer         100\nJimGilchrist         100\nMureDickie           100\nMichaelConnor        100\nJanLopatka           100\nBernardHickey        100\nEricAuchard          100\nKirstinRidley        100\nPierreTran           100\nBradDorfman          100\nScottHillis          100\nLynneO'Donnell       100\nJoeOrtiz             100\nSarahDavison         100\nSamuelPerry          100\nJonathanBirt         100\nAaronPressman        100\nSimonCowell          100\nKeithWeir            100\nKarlPenhaul          100\nMartinWolk           100\nAlexanderSmith       100\nJaneMacartney        100\nTanEeLyn             100\nNickLouth            100\nPeterHumphrey        100\nMarkBendeich         100\nTimFarrand           100\nJohnMastrini         100\nDarrenSchuettler     100\nDavidLawder          100\nEdnaFernandes        100\nLynnleyBrowning      100\nKevinDrawbaugh       100\nLydiaZajc            100\nKevinMorrison        100\nTheresePoletti       100\nBenjaminKangLim      100\nName: author, dtype: int64"
     },
     "execution_count": 25,
     "metadata": {},
     "output_type": "execute_result"
    }
   ],
   "source": [
    "y.value_counts()"
   ],
   "metadata": {
    "collapsed": false,
    "pycharm": {
     "name": "#%%\n"
    }
   }
  },
  {
   "cell_type": "code",
   "execution_count": 31,
   "outputs": [],
   "source": [
    "X_train, X_test, y_train, y_test = train_test_split(X, y, test_size=.25, random_state=63, stratify=y)"
   ],
   "metadata": {
    "collapsed": false,
    "pycharm": {
     "name": "#%%\n"
    }
   }
  },
  {
   "cell_type": "code",
   "execution_count": 32,
   "outputs": [],
   "source": [
    "model = RandomForestClassifier(n_jobs=100, random_state=63)"
   ],
   "metadata": {
    "collapsed": false,
    "pycharm": {
     "name": "#%%\n"
    }
   }
  },
  {
   "cell_type": "code",
   "source": [
    "model.fit(X_train, y_train)"
   ],
   "metadata": {
    "collapsed": false,
    "pycharm": {
     "name": "#%%\n"
    }
   },
   "execution_count": 33,
   "outputs": [
    {
     "data": {
      "text/plain": "RandomForestClassifier(n_jobs=100, random_state=63)"
     },
     "execution_count": 33,
     "metadata": {},
     "output_type": "execute_result"
    }
   ]
  },
  {
   "cell_type": "code",
   "execution_count": 34,
   "outputs": [],
   "source": [
    "metrics = classification_report(y_test, model.predict(X_test), digits=3, output_dict=3)"
   ],
   "metadata": {
    "collapsed": false,
    "pycharm": {
     "name": "#%%\n"
    }
   }
  },
  {
   "cell_type": "code",
   "execution_count": 35,
   "outputs": [
    {
     "name": "stdout",
     "output_type": "stream",
     "text": [
      "Precision:  0.69\n",
      "Recall:  0.679\n",
      "F1:  0.672\n"
     ]
    }
   ],
   "source": [
    "print('Precision: ', round(metrics['macro avg']['precision'],3))\n",
    "print('Recall: ', round(metrics['macro avg']['recall'],3))\n",
    "print('F1: ', round(metrics['macro avg']['f1-score'],3))"
   ],
   "metadata": {
    "collapsed": false,
    "pycharm": {
     "name": "#%%\n"
    }
   }
  },
  {
   "cell_type": "code",
   "execution_count": 30,
   "outputs": [],
   "source": [],
   "metadata": {
    "collapsed": false,
    "pycharm": {
     "name": "#%%\n"
    }
   }
  }
 ],
 "metadata": {
  "kernelspec": {
   "display_name": "Python 3",
   "language": "python",
   "name": "python3"
  },
  "language_info": {
   "codemirror_mode": {
    "name": "ipython",
    "version": 2
   },
   "file_extension": ".py",
   "mimetype": "text/x-python",
   "name": "python",
   "nbconvert_exporter": "python",
   "pygments_lexer": "ipython2",
   "version": "2.7.6"
  }
 },
 "nbformat": 4,
 "nbformat_minor": 0
}