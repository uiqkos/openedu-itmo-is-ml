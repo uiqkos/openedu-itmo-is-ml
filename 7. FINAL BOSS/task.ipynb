{
 "cells": [
  {
   "cell_type": "code",
   "execution_count": 64,
   "metadata": {
    "collapsed": true
   },
   "outputs": [],
   "source": [
    "import numpy as np\n",
    "import pandas as pd\n",
    "from sklearn.model_selection import train_test_split\n",
    "from sklearn.svm import LinearSVC\n",
    "from sklearn.metrics import confusion_matrix, classification_report, f1_score\n",
    "from sklearn.preprocessing import MinMaxScaler"
   ]
  },
  {
   "cell_type": "code",
   "execution_count": 48,
   "outputs": [],
   "source": [
    "df = pd.read_csv('UNSW_NB15_training-set.csv')\n",
    "df.set_index('id', drop=True, inplace=True)"
   ],
   "metadata": {
    "collapsed": false,
    "pycharm": {
     "name": "#%%\n"
    }
   }
  },
  {
   "cell_type": "code",
   "execution_count": 49,
   "outputs": [
    {
     "data": {
      "text/plain": "         dur proto service state  spkts  dpkts  sbytes  dbytes          rate  \\\nid                                                                             \n1   0.000011   udp       -   INT      2      0     496       0   90909.09020   \n2   0.000008   udp       -   INT      2      0    1762       0  125000.00030   \n3   0.000005   udp       -   INT      2      0    1068       0  200000.00510   \n4   0.000006   udp       -   INT      2      0     900       0  166666.66080   \n5   0.000010   udp       -   INT      2      0    2126       0  100000.00250   \n6   0.000003   udp       -   INT      2      0     784       0  333333.32150   \n7   0.000006   udp       -   INT      2      0    1960       0  166666.66080   \n8   0.000028   udp       -   INT      2      0    1384       0   35714.28522   \n9   0.000000   arp       -   INT      1      0      46       0       0.00000   \n10  0.000000   arp       -   INT      1      0      46       0       0.00000   \n\n    sttl  ...  ct_dst_sport_ltm  ct_dst_src_ltm  is_ftp_login  ct_ftp_cmd  \\\nid        ...                                                               \n1    254  ...                 1               2             0           0   \n2    254  ...                 1               2             0           0   \n3    254  ...                 1               3             0           0   \n4    254  ...                 1               3             0           0   \n5    254  ...                 1               3             0           0   \n6    254  ...                 1               2             0           0   \n7    254  ...                 1               2             0           0   \n8    254  ...                 1               3             0           0   \n9      0  ...                 2               2             0           0   \n10     0  ...                 2               2             0           0   \n\n    ct_flw_http_mthd  ct_src_ltm  ct_srv_dst  is_sm_ips_ports  attack_cat  \\\nid                                                                          \n1                  0           1           2                0      Normal   \n2                  0           1           2                0      Normal   \n3                  0           1           3                0      Normal   \n4                  0           2           3                0      Normal   \n5                  0           2           3                0      Normal   \n6                  0           2           2                0      Normal   \n7                  0           2           2                0      Normal   \n8                  0           1           3                0      Normal   \n9                  0           2           2                1      Normal   \n10                 0           2           2                1      Normal   \n\n    label  \nid         \n1       0  \n2       0  \n3       0  \n4       0  \n5       0  \n6       0  \n7       0  \n8       0  \n9       0  \n10      0  \n\n[10 rows x 44 columns]",
      "text/html": "<div>\n<style scoped>\n    .dataframe tbody tr th:only-of-type {\n        vertical-align: middle;\n    }\n\n    .dataframe tbody tr th {\n        vertical-align: top;\n    }\n\n    .dataframe thead th {\n        text-align: right;\n    }\n</style>\n<table border=\"1\" class=\"dataframe\">\n  <thead>\n    <tr style=\"text-align: right;\">\n      <th></th>\n      <th>dur</th>\n      <th>proto</th>\n      <th>service</th>\n      <th>state</th>\n      <th>spkts</th>\n      <th>dpkts</th>\n      <th>sbytes</th>\n      <th>dbytes</th>\n      <th>rate</th>\n      <th>sttl</th>\n      <th>...</th>\n      <th>ct_dst_sport_ltm</th>\n      <th>ct_dst_src_ltm</th>\n      <th>is_ftp_login</th>\n      <th>ct_ftp_cmd</th>\n      <th>ct_flw_http_mthd</th>\n      <th>ct_src_ltm</th>\n      <th>ct_srv_dst</th>\n      <th>is_sm_ips_ports</th>\n      <th>attack_cat</th>\n      <th>label</th>\n    </tr>\n    <tr>\n      <th>id</th>\n      <th></th>\n      <th></th>\n      <th></th>\n      <th></th>\n      <th></th>\n      <th></th>\n      <th></th>\n      <th></th>\n      <th></th>\n      <th></th>\n      <th></th>\n      <th></th>\n      <th></th>\n      <th></th>\n      <th></th>\n      <th></th>\n      <th></th>\n      <th></th>\n      <th></th>\n      <th></th>\n      <th></th>\n    </tr>\n  </thead>\n  <tbody>\n    <tr>\n      <th>1</th>\n      <td>0.000011</td>\n      <td>udp</td>\n      <td>-</td>\n      <td>INT</td>\n      <td>2</td>\n      <td>0</td>\n      <td>496</td>\n      <td>0</td>\n      <td>90909.09020</td>\n      <td>254</td>\n      <td>...</td>\n      <td>1</td>\n      <td>2</td>\n      <td>0</td>\n      <td>0</td>\n      <td>0</td>\n      <td>1</td>\n      <td>2</td>\n      <td>0</td>\n      <td>Normal</td>\n      <td>0</td>\n    </tr>\n    <tr>\n      <th>2</th>\n      <td>0.000008</td>\n      <td>udp</td>\n      <td>-</td>\n      <td>INT</td>\n      <td>2</td>\n      <td>0</td>\n      <td>1762</td>\n      <td>0</td>\n      <td>125000.00030</td>\n      <td>254</td>\n      <td>...</td>\n      <td>1</td>\n      <td>2</td>\n      <td>0</td>\n      <td>0</td>\n      <td>0</td>\n      <td>1</td>\n      <td>2</td>\n      <td>0</td>\n      <td>Normal</td>\n      <td>0</td>\n    </tr>\n    <tr>\n      <th>3</th>\n      <td>0.000005</td>\n      <td>udp</td>\n      <td>-</td>\n      <td>INT</td>\n      <td>2</td>\n      <td>0</td>\n      <td>1068</td>\n      <td>0</td>\n      <td>200000.00510</td>\n      <td>254</td>\n      <td>...</td>\n      <td>1</td>\n      <td>3</td>\n      <td>0</td>\n      <td>0</td>\n      <td>0</td>\n      <td>1</td>\n      <td>3</td>\n      <td>0</td>\n      <td>Normal</td>\n      <td>0</td>\n    </tr>\n    <tr>\n      <th>4</th>\n      <td>0.000006</td>\n      <td>udp</td>\n      <td>-</td>\n      <td>INT</td>\n      <td>2</td>\n      <td>0</td>\n      <td>900</td>\n      <td>0</td>\n      <td>166666.66080</td>\n      <td>254</td>\n      <td>...</td>\n      <td>1</td>\n      <td>3</td>\n      <td>0</td>\n      <td>0</td>\n      <td>0</td>\n      <td>2</td>\n      <td>3</td>\n      <td>0</td>\n      <td>Normal</td>\n      <td>0</td>\n    </tr>\n    <tr>\n      <th>5</th>\n      <td>0.000010</td>\n      <td>udp</td>\n      <td>-</td>\n      <td>INT</td>\n      <td>2</td>\n      <td>0</td>\n      <td>2126</td>\n      <td>0</td>\n      <td>100000.00250</td>\n      <td>254</td>\n      <td>...</td>\n      <td>1</td>\n      <td>3</td>\n      <td>0</td>\n      <td>0</td>\n      <td>0</td>\n      <td>2</td>\n      <td>3</td>\n      <td>0</td>\n      <td>Normal</td>\n      <td>0</td>\n    </tr>\n    <tr>\n      <th>6</th>\n      <td>0.000003</td>\n      <td>udp</td>\n      <td>-</td>\n      <td>INT</td>\n      <td>2</td>\n      <td>0</td>\n      <td>784</td>\n      <td>0</td>\n      <td>333333.32150</td>\n      <td>254</td>\n      <td>...</td>\n      <td>1</td>\n      <td>2</td>\n      <td>0</td>\n      <td>0</td>\n      <td>0</td>\n      <td>2</td>\n      <td>2</td>\n      <td>0</td>\n      <td>Normal</td>\n      <td>0</td>\n    </tr>\n    <tr>\n      <th>7</th>\n      <td>0.000006</td>\n      <td>udp</td>\n      <td>-</td>\n      <td>INT</td>\n      <td>2</td>\n      <td>0</td>\n      <td>1960</td>\n      <td>0</td>\n      <td>166666.66080</td>\n      <td>254</td>\n      <td>...</td>\n      <td>1</td>\n      <td>2</td>\n      <td>0</td>\n      <td>0</td>\n      <td>0</td>\n      <td>2</td>\n      <td>2</td>\n      <td>0</td>\n      <td>Normal</td>\n      <td>0</td>\n    </tr>\n    <tr>\n      <th>8</th>\n      <td>0.000028</td>\n      <td>udp</td>\n      <td>-</td>\n      <td>INT</td>\n      <td>2</td>\n      <td>0</td>\n      <td>1384</td>\n      <td>0</td>\n      <td>35714.28522</td>\n      <td>254</td>\n      <td>...</td>\n      <td>1</td>\n      <td>3</td>\n      <td>0</td>\n      <td>0</td>\n      <td>0</td>\n      <td>1</td>\n      <td>3</td>\n      <td>0</td>\n      <td>Normal</td>\n      <td>0</td>\n    </tr>\n    <tr>\n      <th>9</th>\n      <td>0.000000</td>\n      <td>arp</td>\n      <td>-</td>\n      <td>INT</td>\n      <td>1</td>\n      <td>0</td>\n      <td>46</td>\n      <td>0</td>\n      <td>0.00000</td>\n      <td>0</td>\n      <td>...</td>\n      <td>2</td>\n      <td>2</td>\n      <td>0</td>\n      <td>0</td>\n      <td>0</td>\n      <td>2</td>\n      <td>2</td>\n      <td>1</td>\n      <td>Normal</td>\n      <td>0</td>\n    </tr>\n    <tr>\n      <th>10</th>\n      <td>0.000000</td>\n      <td>arp</td>\n      <td>-</td>\n      <td>INT</td>\n      <td>1</td>\n      <td>0</td>\n      <td>46</td>\n      <td>0</td>\n      <td>0.00000</td>\n      <td>0</td>\n      <td>...</td>\n      <td>2</td>\n      <td>2</td>\n      <td>0</td>\n      <td>0</td>\n      <td>0</td>\n      <td>2</td>\n      <td>2</td>\n      <td>1</td>\n      <td>Normal</td>\n      <td>0</td>\n    </tr>\n  </tbody>\n</table>\n<p>10 rows × 44 columns</p>\n</div>"
     },
     "execution_count": 49,
     "metadata": {},
     "output_type": "execute_result"
    }
   ],
   "source": [
    "df.head(10)"
   ],
   "metadata": {
    "collapsed": false,
    "pycharm": {
     "name": "#%%\n"
    }
   }
  },
  {
   "cell_type": "code",
   "execution_count": 50,
   "outputs": [],
   "source": [
    "str_dtypes = tuple(filter(lambda t: t[1] not in (np.dtype('int64'), np.dtype('float64')), df.dtypes.to_dict().items()))"
   ],
   "metadata": {
    "collapsed": false,
    "pycharm": {
     "name": "#%%\n"
    }
   }
  },
  {
   "cell_type": "code",
   "execution_count": 51,
   "outputs": [
    {
     "data": {
      "text/plain": "(('proto', dtype('O')),\n ('service', dtype('O')),\n ('state', dtype('O')),\n ('attack_cat', dtype('O')))"
     },
     "execution_count": 51,
     "metadata": {},
     "output_type": "execute_result"
    }
   ],
   "source": [
    "str_dtypes"
   ],
   "metadata": {
    "collapsed": false,
    "pycharm": {
     "name": "#%%\n"
    }
   }
  },
  {
   "cell_type": "code",
   "execution_count": 52,
   "outputs": [],
   "source": [
    "str_cols = dict(str_dtypes).keys()"
   ],
   "metadata": {
    "collapsed": false,
    "pycharm": {
     "name": "#%%\n"
    }
   }
  },
  {
   "cell_type": "code",
   "execution_count": 53,
   "outputs": [],
   "source": [
    "df.drop(str_cols, axis=1, inplace=True)"
   ],
   "metadata": {
    "collapsed": false,
    "pycharm": {
     "name": "#%%\n"
    }
   }
  },
  {
   "cell_type": "code",
   "execution_count": 54,
   "outputs": [],
   "source": [
    "X = MinMaxScaler().fit_transform(df.iloc[:, :-1])\n",
    "y = df.iloc[:, -1]"
   ],
   "metadata": {
    "collapsed": false,
    "pycharm": {
     "name": "#%%\n"
    }
   }
  },
  {
   "cell_type": "code",
   "execution_count": 55,
   "outputs": [],
   "source": [
    "X_train, X_test, y_train, y_test = train_test_split(X, y, test_size=.3, random_state=1)"
   ],
   "metadata": {
    "collapsed": false,
    "pycharm": {
     "name": "#%%\n"
    }
   }
  },
  {
   "cell_type": "code",
   "execution_count": 56,
   "outputs": [],
   "source": [
    "model = LinearSVC(random_state=1, C=0.11, max_iter=1000, dual=False)"
   ],
   "metadata": {
    "collapsed": false,
    "pycharm": {
     "name": "#%%\n"
    }
   }
  },
  {
   "cell_type": "code",
   "execution_count": 57,
   "outputs": [
    {
     "data": {
      "text/plain": "LinearSVC(C=0.11, dual=False, random_state=1)"
     },
     "execution_count": 57,
     "metadata": {},
     "output_type": "execute_result"
    }
   ],
   "source": [
    "model.fit(X_train, y_train)"
   ],
   "metadata": {
    "collapsed": false,
    "pycharm": {
     "name": "#%%\n"
    }
   }
  },
  {
   "cell_type": "code",
   "execution_count": 58,
   "outputs": [
    {
     "data": {
      "text/plain": "-1.14"
     },
     "execution_count": 58,
     "metadata": {},
     "output_type": "execute_result"
    }
   ],
   "source": [
    "round(model.coef_[0, 4], 2)"
   ],
   "metadata": {
    "collapsed": false,
    "pycharm": {
     "name": "#%%\n"
    }
   }
  },
  {
   "cell_type": "code",
   "execution_count": 59,
   "outputs": [],
   "source": [
    "y_pred = model.predict(X_test)"
   ],
   "metadata": {
    "collapsed": false,
    "pycharm": {
     "name": "#%%\n"
    }
   }
  },
  {
   "cell_type": "code",
   "execution_count": 62,
   "outputs": [
    {
     "data": {
      "text/plain": "array([[ 8868,  2125],\n       [ 1473, 12234]], dtype=int64)"
     },
     "execution_count": 62,
     "metadata": {},
     "output_type": "execute_result"
    }
   ],
   "source": [
    "confusion_matrix(y_test, y_pred)"
   ],
   "metadata": {
    "collapsed": false,
    "pycharm": {
     "name": "#%%\n"
    }
   }
  },
  {
   "cell_type": "code",
   "execution_count": 63,
   "outputs": [
    {
     "name": "stdout",
     "output_type": "stream",
     "text": [
      "              precision    recall  f1-score   support\n",
      "\n",
      "           0      0.858     0.807     0.831     10993\n",
      "           1      0.852     0.893     0.872     13707\n",
      "\n",
      "    accuracy                          0.854     24700\n",
      "   macro avg      0.855     0.850     0.852     24700\n",
      "weighted avg      0.854     0.854     0.854     24700\n",
      "\n"
     ]
    }
   ],
   "source": [
    "print(classification_report(y_test, y_pred, digits=3))"
   ],
   "metadata": {
    "collapsed": false,
    "pycharm": {
     "name": "#%%\n"
    }
   }
  },
  {
   "cell_type": "code",
   "execution_count": 65,
   "outputs": [
    {
     "data": {
      "text/plain": "0.8515756004587374"
     },
     "execution_count": 65,
     "metadata": {},
     "output_type": "execute_result"
    }
   ],
   "source": [
    "f1_score(y_test, y_pred, average='macro')"
   ],
   "metadata": {
    "collapsed": false,
    "pycharm": {
     "name": "#%%\n"
    }
   }
  },
  {
   "cell_type": "code",
   "execution_count": 75,
   "outputs": [
    {
     "data": {
      "text/plain": "array([1.66666697e-07, 9.39408173e-05, 0.00000000e+00, 6.26926493e-06,\n       0.00000000e+00, 1.00000002e-01, 9.96078431e-01, 0.00000000e+00,\n       8.65603603e-03, 0.00000000e+00, 0.00000000e+00, 0.00000000e+00,\n       1.66638916e-07, 0.00000000e+00, 0.00000000e+00, 0.00000000e+00,\n       0.00000000e+00, 0.00000000e+00, 0.00000000e+00, 0.00000000e+00,\n       0.00000000e+00, 0.00000000e+00, 0.00000000e+00, 2.22972973e-02,\n       0.00000000e+00, 0.00000000e+00, 0.00000000e+00, 5.80645161e-01,\n       3.33333333e-01, 6.20689655e-01, 6.20689655e-01, 3.78378378e-01,\n       5.80645161e-01, 0.00000000e+00, 0.00000000e+00, 0.00000000e+00,\n       6.10169492e-01, 5.90163934e-01, 0.00000000e+00])"
     },
     "execution_count": 75,
     "metadata": {},
     "output_type": "execute_result"
    }
   ],
   "source": [
    "X[14001, :]"
   ],
   "metadata": {
    "collapsed": false,
    "pycharm": {
     "name": "#%%\n"
    }
   }
  },
  {
   "cell_type": "code",
   "execution_count": 76,
   "outputs": [
    {
     "data": {
      "text/plain": "array([1], dtype=int64)"
     },
     "execution_count": 76,
     "metadata": {},
     "output_type": "execute_result"
    }
   ],
   "source": [
    "model.predict([_])"
   ],
   "metadata": {
    "collapsed": false,
    "pycharm": {
     "name": "#%%\n"
    }
   }
  },
  {
   "cell_type": "code",
   "execution_count": 77,
   "outputs": [
    {
     "data": {
      "text/plain": "array([1], dtype=int64)"
     },
     "execution_count": 77,
     "metadata": {},
     "output_type": "execute_result"
    }
   ],
   "source": [
    "model.predict([X[18512]])"
   ],
   "metadata": {
    "collapsed": false,
    "pycharm": {
     "name": "#%%\n"
    }
   }
  },
  {
   "cell_type": "code",
   "execution_count": null,
   "outputs": [],
   "source": [],
   "metadata": {
    "collapsed": false,
    "pycharm": {
     "name": "#%%\n"
    }
   }
  }
 ],
 "metadata": {
  "kernelspec": {
   "display_name": "Python 3",
   "language": "python",
   "name": "python3"
  },
  "language_info": {
   "codemirror_mode": {
    "name": "ipython",
    "version": 2
   },
   "file_extension": ".py",
   "mimetype": "text/x-python",
   "name": "python",
   "nbconvert_exporter": "python",
   "pygments_lexer": "ipython2",
   "version": "2.7.6"
  }
 },
 "nbformat": 4,
 "nbformat_minor": 0
}