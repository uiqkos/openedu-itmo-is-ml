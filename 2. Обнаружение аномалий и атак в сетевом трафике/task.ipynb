{
 "cells": [
  {
   "cell_type": "code",
   "execution_count": 1,
   "metadata": {
    "collapsed": true
   },
   "outputs": [],
   "source": [
    "import pandas as pd\n",
    "from sklearn.tree import DecisionTreeClassifier\n",
    "from sklearn.model_selection import train_test_split\n",
    "from sklearn.metrics import recall_score, precision_score, f1_score, classification_report"
   ]
  },
  {
   "cell_type": "code",
   "execution_count": 2,
   "outputs": [],
   "source": [
    "df = pd.read_csv('360T.csv')\n",
    "X = df.iloc[:, :-1]\n",
    "y = df.iloc[:, -1]\n",
    "\n",
    "X_train, X_test, y_train, y_test = train_test_split(X, y, test_size=0.3, random_state=65,stratify = df.iloc[:,-1])"
   ],
   "metadata": {
    "collapsed": false,
    "pycharm": {
     "name": "#%%\n"
    }
   }
  },
  {
   "cell_type": "code",
   "execution_count": 3,
   "outputs": [],
   "source": [
    "model = DecisionTreeClassifier(\n",
    "    criterion='entropy',\n",
    "    min_samples_leaf=31,\n",
    "    max_leaf_nodes=30,\n",
    "    random_state=65\n",
    ")"
   ],
   "metadata": {
    "collapsed": false,
    "pycharm": {
     "name": "#%%\n"
    }
   }
  },
  {
   "cell_type": "code",
   "execution_count": 4,
   "outputs": [
    {
     "data": {
      "text/plain": "DecisionTreeClassifier(criterion='entropy', max_leaf_nodes=30,\n                       min_samples_leaf=31, random_state=65)"
     },
     "execution_count": 4,
     "metadata": {},
     "output_type": "execute_result"
    }
   ],
   "source": [
    "model.fit(X_train, y_train)"
   ],
   "metadata": {
    "collapsed": false,
    "pycharm": {
     "name": "#%%\n"
    }
   }
  },
  {
   "cell_type": "code",
   "execution_count": 5,
   "outputs": [],
   "source": [
    "y_pred = model.predict(X_test)"
   ],
   "metadata": {
    "collapsed": false,
    "pycharm": {
     "name": "#%%\n"
    }
   }
  },
  {
   "cell_type": "code",
   "execution_count": 6,
   "outputs": [
    {
     "name": "stdout",
     "output_type": "stream",
     "text": [
      "Depth: 6\n"
     ]
    }
   ],
   "source": [
    "print('Depth:', model.tree_.max_depth)"
   ],
   "metadata": {
    "collapsed": false,
    "pycharm": {
     "name": "#%%\n"
    }
   }
  },
  {
   "cell_type": "code",
   "execution_count": 7,
   "outputs": [
    {
     "name": "stdout",
     "output_type": "stream",
     "text": [
      "              precision    recall  f1-score   support\n",
      "\n",
      "           0      0.880     0.846     0.863        26\n",
      "           1      0.994     0.996     0.995       675\n",
      "\n",
      "    accuracy                          0.990       701\n",
      "   macro avg      0.937     0.921     0.929       701\n",
      "weighted avg      0.990     0.990     0.990       701\n",
      "\n"
     ]
    }
   ],
   "source": [
    "print(classification_report(y_test, y_pred, digits=3))"
   ],
   "metadata": {
    "collapsed": false,
    "pycharm": {
     "name": "#%%\n"
    }
   }
  },
  {
   "cell_type": "code",
   "execution_count": 8,
   "outputs": [
    {
     "name": "stdout",
     "output_type": "stream",
     "text": [
      "[0 0 1 1]\n"
     ]
    },
    {
     "name": "stderr",
     "output_type": "stream",
     "text": [
      "c:\\users\\uiqko\\pyenvs\\mint\\lib\\site-packages\\sklearn\\base.py:450: UserWarning: X does not have valid feature names, but DecisionTreeClassifier was fitted with feature names\n",
      "  warnings.warn(\n"
     ]
    }
   ],
   "source": [
    "data = [\n",
    "    [32679, 2178, 26415, 1761, 213, 1736, 48, 213, 1807, 34, 103.84, 1393.0, 272.0, 0.31, 1, 0, 0.67, 1, 0, 63, 79, 48,\n",
    "     380, 384, 376, 63, 80, 47, 380, 420, 334, 263, 2163, 54, 264, 2254, 43, 129.19, 1754.0, 349.0, 0, 8707, 580, 1360,\n",
    "     110, 0, 79, 48, 1.0, 1, 1],\n",
    "    [32654, 2176, 26203, 1746, 212, 1742, 44, 212, 1805, 38, 112.68, 1243.0, 315.33, 0.31, 1, 0, 0.6, 1, 0, 63, 84, 44,\n",
    "     379, 380, 376, 63, 87, 41, 379, 408, 343, 263, 2167, 56, 263, 2255, 48, 140.35, 1568.0, 390.33, 0, 8638, 576, 1365,\n",
    "     101, 0, 84, 44, 1.0, 1, 1],\n",
    "    [30987, 2065, 25033, 1668, 205, 1591, 28, 203, 1635, 35, 79.04, 1368.0, 181.0, 0.26, 2, 0, 0.2, 1, 0, 63, 83, 28,\n",
    "     379, 398, 198, 63, 429, 44, 379, 730, 334, 255, 1982, 31, 252, 1998, 43, 98.34, 1738.0, 228.33, 0, 8357, 557, 1212,\n",
    "     117, 3, 81, 28, 0.12, 1, 0],\n",
    "    [31476, 2098, 25151, 1676, 206, 1600, 23, 204, 1616, 32, 71.12, 932.0, 186.67, 0.28, 2, 0, 0.13, 1, 0, 63, 81, 23,\n",
    "     379, 402, 199, 63, 439, 42, 379, 728, 338, 258, 1997, 33, 255, 2025, 37, 89.19, 1198.0, 239.67, 0, 8466, 564, 1223,\n",
    "     131, 1, 77, 23, 0.18, 1, 0]\n",
    "]\n",
    "\n",
    "print(model.predict(data))"
   ],
   "metadata": {
    "collapsed": false,
    "pycharm": {
     "name": "#%%\n"
    }
   }
  },
  {
   "cell_type": "code",
   "execution_count": null,
   "outputs": [],
   "source": [],
   "metadata": {
    "collapsed": false,
    "pycharm": {
     "name": "#%%\n"
    }
   }
  }
 ],
 "metadata": {
  "kernelspec": {
   "display_name": "Python 3",
   "language": "python",
   "name": "python3"
  },
  "language_info": {
   "codemirror_mode": {
    "name": "ipython",
    "version": 2
   },
   "file_extension": ".py",
   "mimetype": "text/x-python",
   "name": "python",
   "nbconvert_exporter": "python",
   "pygments_lexer": "ipython2",
   "version": "2.7.6"
  }
 },
 "nbformat": 4,
 "nbformat_minor": 0
}